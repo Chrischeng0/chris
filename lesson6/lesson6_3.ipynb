{
 "cells": [
  {
   "cell_type": "code",
   "execution_count": null,
   "metadata": {},
   "outputs": [],
   "source": [
    "height = int(input(\"請輸入身高(公分,120-250):\"))\n",
    "#巢狀判斷判\n",
    "if height >= 120:\n",
    "    if height <= 250:\n",
    "        print(\"在120-250之間\")\n",
    "    else:\n",
    "        print(\"大於250,不在範圍內\")\n",
    "else:\n",
    "    print(\"小於120,不在範圍內\")"
   ]
  },
  {
   "cell_type": "code",
   "execution_count": null,
   "metadata": {},
   "outputs": [],
   "source": [
    "import pyinputplus as pyip\n",
    "height=pyip.inputInt('請輸入身高(公分,120-250):')\n",
    "if height>=120 and height<= 250:\n",
    "    print('在120-250之間')\n",
    "else:\n",
    "    print('不在範圍內')"
   ]
  },
  {
   "cell_type": "code",
   "execution_count": null,
   "metadata": {},
   "outputs": [],
   "source": [
    "import pyinputplus as pyip\n",
    "height=pyip.inputInt('請輸入身高(公分,120-250):')\n",
    "if height<120 or height>250:\n",
    "    print('不在範圍內')\n",
    "else:\n",
    "    print(\"在120-250之間\")"
   ]
  }
 ],
 "metadata": {
  "kernelspec": {
   "display_name": "Python 3",
   "language": "python",
   "name": "python3"
  },
  "language_info": {
   "name": "python",
   "version": "3.10.13"
  }
 },
 "nbformat": 4,
 "nbformat_minor": 2
}
