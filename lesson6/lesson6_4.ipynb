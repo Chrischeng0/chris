{
 "cells": [
  {
   "cell_type": "code",
   "execution_count": null,
   "metadata": {},
   "outputs": [],
   "source": [
    "import pyinputplus as pyip\n",
    "scores=pyip.inputInt('請輸入學生分數')\n",
    "print(scores)\n",
    "if scores <60:\n",
    "    print('不及格')\n",
    "else: \n",
    "    if scores >=60 and scores<=80:\n",
    "        print('甲')\n",
    "    else:\n",
    "        print('優')"
   ]
  },
  {
   "cell_type": "code",
   "execution_count": null,
   "metadata": {},
   "outputs": [],
   "source": [
    "import pyinputplus as pyip\n",
    "scores=pyip.inputInt('請輸入學生分數')\n",
    "print(scores)\n",
    "if scores <60:\n",
    "    print('不及格')\n",
    "elif scores>=60 and scores<80:\n",
    "        print('甲')\n",
    "else:\n",
    "    print('優')"
   ]
  }
 ],
 "metadata": {
  "kernelspec": {
   "display_name": "Python 3",
   "language": "python",
   "name": "python3"
  },
  "language_info": {
   "name": "python",
   "version": "3.10.13"
  }
 },
 "nbformat": 4,
 "nbformat_minor": 2
}
