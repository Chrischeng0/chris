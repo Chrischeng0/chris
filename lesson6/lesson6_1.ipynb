{
 "cells": [
  {
   "cell_type": "code",
   "execution_count": 1,
   "metadata": {},
   "outputs": [
    {
     "name": "stdout",
     "output_type": "stream",
     "text": [
      "請輸入數字Number must be at maximum 300.\n",
      "請輸入數字20\n"
     ]
    }
   ],
   "source": [
    "import pyinputplus as pyip \n",
    "\n",
    "value = pyip.inputNum(max=300,min=0,prompt='請輸入數字')\n",
    "print(value)"
   ]
  },
  {
   "cell_type": "code",
   "execution_count": null,
   "metadata": {},
   "outputs": [],
   "source": [
    "value=pyip.inputNum('請輸入數字:',10)\n",
    "print(value)"
   ]
  },
  {
   "cell_type": "code",
   "execution_count": 3,
   "metadata": {},
   "outputs": [
    {
     "name": "stdout",
     "output_type": "stream",
     "text": [
      "請輸入數字:yes\n"
     ]
    }
   ],
   "source": [
    "value=pyip.inputYesNo('請輸入數字:')\n",
    "print(value)"
   ]
  },
  {
   "cell_type": "code",
   "execution_count": null,
   "metadata": {},
   "outputs": [],
   "source": [
    "is_yes = pyip.inputYesNo('請輸入yes,no')\n",
    "print(is_yes)"
   ]
  },
  {
   "cell_type": "code",
   "execution_count": null,
   "metadata": {},
   "outputs": [],
   "source": [
    "state=pyip.inputChoice(['早上','中午','下午'],'請輸入下列三個')\n",
    "print(f'{state}好')"
   ]
  },
  {
   "cell_type": "code",
   "execution_count": null,
   "metadata": {},
   "outputs": [],
   "source": [
    "state=pyip.inputChoice(choices=['早上','中午','下午'],promot='請輸入下列三個')\n",
    "print(f'{state}好')"
   ]
  },
  {
   "cell_type": "code",
   "execution_count": 8,
   "metadata": {},
   "outputs": [
    {
     "name": "stdout",
     "output_type": "stream",
     "text": [
      "請輸入下列三個:1. 早上\n",
      "2. 中午\n",
      "3. 下午\n",
      "\n"
     ]
    }
   ],
   "source": [
    "state=pyip.inputMenu(['早上','中午','下午'],prompt='請輸入下列三個:',numbered=True,blank=True,)\n",
    "print(state)"
   ]
  }
 ],
 "metadata": {
  "kernelspec": {
   "display_name": "Python 3",
   "language": "python",
   "name": "python3"
  },
  "language_info": {
   "codemirror_mode": {
    "name": "ipython",
    "version": 3
   },
   "file_extension": ".py",
   "mimetype": "text/x-python",
   "name": "python",
   "nbconvert_exporter": "python",
   "pygments_lexer": "ipython3",
   "version": "3.10.13"
  }
 },
 "nbformat": 4,
 "nbformat_minor": 2
}
