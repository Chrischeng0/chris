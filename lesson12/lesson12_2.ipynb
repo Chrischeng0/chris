{
 "cells": [
  {
   "cell_type": "code",
   "execution_count": null,
   "metadata": {},
   "outputs": [],
   "source": [
    "score={'國文':78,\n",
    "       '英文':86,\n",
    "       '數學':78,\n",
    "       '地理':78,\n",
    "       '歷史':78,}"
   ]
  },
  {
   "cell_type": "code",
   "execution_count": 6,
   "metadata": {},
   "outputs": [
    {
     "name": "stdout",
     "output_type": "stream",
     "text": [
      "<class '__main__.Student'>\n"
     ]
    },
    {
     "data": {
      "text/plain": [
       "(78, 86, 92, 65, 91)"
      ]
     },
     "execution_count": 6,
     "metadata": {},
     "output_type": "execute_result"
    }
   ],
   "source": [
    "class Student:\n",
    "    pass\n",
    "\n",
    "stu1=Student()\n",
    "print(type(stu1))\n",
    "stu1.國文=78\n",
    "stu1.英文=86\n",
    "stu1.數學=92\n",
    "stu1.地理=65\n",
    "stu1.歷史=91\n",
    "stu1.國文,stu1.英文,stu1.數學,stu1.地理,stu1.歷史"
   ]
  }
 ],
 "metadata": {
  "kernelspec": {
   "display_name": "Python 3",
   "language": "python",
   "name": "python3"
  },
  "language_info": {
   "codemirror_mode": {
    "name": "ipython",
    "version": 3
   },
   "file_extension": ".py",
   "mimetype": "text/x-python",
   "name": "python",
   "nbconvert_exporter": "python",
   "pygments_lexer": "ipython3",
   "version": "3.10.13"
  }
 },
 "nbformat": 4,
 "nbformat_minor": 2
}
