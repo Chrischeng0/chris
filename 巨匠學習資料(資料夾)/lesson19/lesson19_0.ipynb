{
 "cells": [
  {
   "cell_type": "code",
   "execution_count": null,
   "metadata": {},
   "outputs": [],
   "source": [
    "import pandas as pd\n",
    "\n",
    "df1 =pd.read_csv('各鄉鎮市區人口密度.csv')\n",
    "display(df1)\n",
    "df2 = df1.rename(columns={'statistic_yyy':'統計年','site_id':'區域別','people_total':'年底人口數','area':'土地面積','population_density':'人口密度'})\n",
    "display(df2)\n",
    "df3 = df2.drop(0)\n",
    "display(df3)\n",
    "df4 = df3.reindex(index=range(1,371))\n",
    "display(df4)\n",
    "\n",
    "\n"
   ]
  },
  {
   "cell_type": "code",
   "execution_count": null,
   "metadata": {},
   "outputs": [],
   "source": [
    "def county(value:str) -> str:\n",
    "    if len(value) > 4:\n",
    "        return value[:3]\n",
    "    else:\n",
    "        return value\n",
    "\n",
    "df4['縣市'] = df4['區域別'].map(county)\n",
    "display(df4)\n",
    "\n",
    "\n"
   ]
  },
  {
   "cell_type": "code",
   "execution_count": null,
   "metadata": {},
   "outputs": [],
   "source": [
    "def township(value:str) -> str:\n",
    "    if len(value) > 4:\n",
    "        return value[-3:]\n",
    "    else:\n",
    "        return value\n",
    "\n",
    "df4['鄉鎮區'] = df4['區域別'].map(township)\n",
    "display(df4)"
   ]
  }
 ],
 "metadata": {
  "kernelspec": {
   "display_name": "Python 3",
   "language": "python",
   "name": "python3"
  },
  "language_info": {
   "codemirror_mode": {
    "name": "ipython",
    "version": 3
   },
   "file_extension": ".py",
   "mimetype": "text/x-python",
   "name": "python",
   "nbconvert_exporter": "python",
   "pygments_lexer": "ipython3",
   "version": "3.10.13"
  }
 },
 "nbformat": 4,
 "nbformat_minor": 2
}
