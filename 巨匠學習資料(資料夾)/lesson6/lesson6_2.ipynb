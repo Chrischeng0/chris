{
 "cells": [
  {
   "cell_type": "code",
   "execution_count": 2,
   "metadata": {},
   "outputs": [
    {
     "name": "stdout",
     "output_type": "stream",
     "text": [
      "請輸入學生分數(最高300分):學生是否府和加分條件?(1,2)/n1. 是\n",
      "2. 否\n",
      "學生總分為265\n"
     ]
    }
   ],
   "source": [
    "import pyinputplus as pyip\n",
    "scores=pyip.inputInt('請輸入學生分數(最高300分):',min=0,max=300)\n",
    "add=pyip.inputMenu(['是','否'],prompt='學生是否府和加分條件?(1,2)',numbered=True)\n",
    "if add=='是':\n",
    "    scores*=1.05\n",
    "    if scores>300:\n",
    "        scores=300\n",
    "print(f\"學生總分為{scores:.0f}\")"
   ]
  },
  {
   "cell_type": "code",
   "execution_count": null,
   "metadata": {},
   "outputs": [],
   "source": [
    "import pyinputplus as pyip\n",
    "scores=pyip.inputInt('請輸入學生分數(最高300分):',min=0,max=300)\n",
    "print(scores)\n",
    "add=pyip.inputMenu(['是','否'],prompt='學生是否府和加分條件?(1,2)',numbered=True)\n",
    "if add=='是':\n",
    "    scores*=1.05\n",
    "    if scores>300:\n",
    "        scores=300\n",
    "print(f\"學生總分為{scores:.0f}\")"
   ]
  }
 ],
 "metadata": {
  "kernelspec": {
   "display_name": "Python 3",
   "language": "python",
   "name": "python3"
  },
  "language_info": {
   "codemirror_mode": {
    "name": "ipython",
    "version": 3
   },
   "file_extension": ".py",
   "mimetype": "text/x-python",
   "name": "python",
   "nbconvert_exporter": "python",
   "pygments_lexer": "ipython3",
   "version": "3.10.13"
  }
 },
 "nbformat": 4,
 "nbformat_minor": 2
}
