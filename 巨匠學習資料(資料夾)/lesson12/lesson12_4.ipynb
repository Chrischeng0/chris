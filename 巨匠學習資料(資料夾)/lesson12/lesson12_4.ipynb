{
 "cells": [
  {
   "cell_type": "code",
   "execution_count": 31,
   "metadata": {},
   "outputs": [],
   "source": [
    "with open('names.txt',encoding='utf-8') as file:\n",
    "    names_str:str = file.read()\n",
    "names:list[str] = names_str.split(sep=\"\\n\")\n"
   ]
  },
  {
   "cell_type": "code",
   "execution_count": 32,
   "metadata": {},
   "outputs": [
    {
     "data": {
      "text/plain": [
       "299"
      ]
     },
     "execution_count": 32,
     "metadata": {},
     "output_type": "execute_result"
    }
   ],
   "source": [
    "len(names)"
   ]
  },
  {
   "cell_type": "code",
   "execution_count": 33,
   "metadata": {},
   "outputs": [
    {
     "data": {
      "text/plain": [
       "['黃婷婷',\n",
       " '劉昀天',\n",
       " '鄭琇亞',\n",
       " '鄭琇亞',\n",
       " '張伊映',\n",
       " '張軒宸',\n",
       " '洪阿惠',\n",
       " '柯宜臻',\n",
       " '蕭怡伶',\n",
       " '黃麗美',\n",
       " '林佳光',\n",
       " '鍾俞禎',\n",
       " '葉祖雄',\n",
       " '王筱婷',\n",
       " '崔孝憲',\n",
       " '李蓉瑞',\n",
       " '崔孝憲',\n",
       " '盧必妍',\n",
       " '蔡士賢',\n",
       " '孫火清',\n",
       " '蔡至剛',\n",
       " '李蓉瑞',\n",
       " '沈心利',\n",
       " '黃嘉琪',\n",
       " '蔡明平',\n",
       " '元延辛',\n",
       " '胡淑貞',\n",
       " '蔡嘉音',\n",
       " '馬彥文',\n",
       " '周家銘',\n",
       " '張凡成',\n",
       " '李淑芳',\n",
       " '黃彥孝',\n",
       " '羅佩樺',\n",
       " '劉嘉泰',\n",
       " '劉耿琦',\n",
       " '張天亨',\n",
       " '鄭佳玲',\n",
       " '陳奇瑄',\n",
       " '朱士弘',\n",
       " '元延辛',\n",
       " '王筱婷',\n",
       " '陳奇瑄',\n",
       " '陳倩妮',\n",
       " '吳孟穎',\n",
       " '景歡燦',\n",
       " '黃旻林',\n",
       " '張嘉韋',\n",
       " '陳俊憲',\n",
       " '黃麗美']"
      ]
     },
     "execution_count": 33,
     "metadata": {},
     "output_type": "execute_result"
    }
   ],
   "source": [
    "import random\n",
    "\n",
    "num = 50\n",
    "randomNames:list[str] = random.choices(names,k=num)\n",
    "randomNames"
   ]
  }
 ],
 "metadata": {
  "kernelspec": {
   "display_name": "Python 3",
   "language": "python",
   "name": "python3"
  },
  "language_info": {
   "codemirror_mode": {
    "name": "ipython",
    "version": 3
   },
   "file_extension": ".py",
   "mimetype": "text/x-python",
   "name": "python",
   "nbconvert_exporter": "python",
   "pygments_lexer": "ipython3",
   "version": "3.10.13"
  }
 },
 "nbformat": 4,
 "nbformat_minor": 2
}
