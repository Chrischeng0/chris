{
 "cells": [
  {
   "cell_type": "code",
   "execution_count": 31,
   "metadata": {},
   "outputs": [],
   "source": [
    "with open('names.txt',encoding='utf-8') as file:\n",
    "    names_str:str = file.read()\n",
    "names:list[str] = names_str.split(sep=\"\\n\")\n"
   ]
  },
  {
   "cell_type": "code",
   "execution_count": 32,
   "metadata": {},
   "outputs": [
    {
     "data": {
      "text/plain": [
       "299"
      ]
     },
     "execution_count": 32,
     "metadata": {},
     "output_type": "execute_result"
    }
   ],
   "source": [
    "len(names)"
   ]
  },
  {
   "cell_type": "code",
   "execution_count": null,
   "metadata": {},
   "outputs": [],
   "source": [
    "import random\n",
    "\n",
    "num = 50\n",
    "randomNames:list[str] = random.choices(names,k=num)\n",
    "randomNames"
   ]
  },
  {
   "cell_type": "code",
   "execution_count": 60,
   "metadata": {},
   "outputs": [
    {
     "data": {
      "text/plain": [
       "Person(name='徐國堂', height=158, weight=110)"
      ]
     },
     "execution_count": 60,
     "metadata": {},
     "output_type": "execute_result"
    }
   ],
   "source": [
    "from pydantic import BaseModel\n",
    "from random import randint\n",
    "\n",
    "class Person(BaseModel):\n",
    "    name:str\n",
    "    height:int\n",
    "    weight:int\n",
    "\n",
    "p1 = Person(name='徐國堂',height=randint(150,195),weight=randint(50,110))\n",
    "p1.model_dump()\n",
    "\n",
    "p2 = Person.model_validate({ 'name': '徐國堂',\n",
    "                             'height': randint(150,195),\n",
    "                             'weight': randint(50,110)})\n",
    "p2"
   ]
  },
  {
   "cell_type": "code",
   "execution_count": 65,
   "metadata": {},
   "outputs": [
    {
     "data": {
      "text/plain": [
       "[Person(name='黃婷婷', height=180, weight=65),\n",
       " Person(name='劉昀天', height=182, weight=83),\n",
       " Person(name='鄭琇亞', height=164, weight=106),\n",
       " Person(name='鄭琇亞', height=174, weight=77),\n",
       " Person(name='張伊映', height=195, weight=77),\n",
       " Person(name='張軒宸', height=152, weight=77),\n",
       " Person(name='洪阿惠', height=163, weight=101),\n",
       " Person(name='柯宜臻', height=169, weight=89),\n",
       " Person(name='蕭怡伶', height=157, weight=95),\n",
       " Person(name='黃麗美', height=153, weight=69),\n",
       " Person(name='林佳光', height=192, weight=72),\n",
       " Person(name='鍾俞禎', height=184, weight=50),\n",
       " Person(name='葉祖雄', height=181, weight=82),\n",
       " Person(name='王筱婷', height=165, weight=66),\n",
       " Person(name='崔孝憲', height=177, weight=73),\n",
       " Person(name='李蓉瑞', height=186, weight=67),\n",
       " Person(name='崔孝憲', height=151, weight=90),\n",
       " Person(name='盧必妍', height=161, weight=90),\n",
       " Person(name='蔡士賢', height=178, weight=106),\n",
       " Person(name='孫火清', height=163, weight=79),\n",
       " Person(name='蔡至剛', height=150, weight=60),\n",
       " Person(name='李蓉瑞', height=160, weight=62),\n",
       " Person(name='沈心利', height=155, weight=78),\n",
       " Person(name='黃嘉琪', height=181, weight=101),\n",
       " Person(name='蔡明平', height=195, weight=88),\n",
       " Person(name='元延辛', height=179, weight=106),\n",
       " Person(name='胡淑貞', height=180, weight=78),\n",
       " Person(name='蔡嘉音', height=170, weight=104),\n",
       " Person(name='馬彥文', height=153, weight=72),\n",
       " Person(name='周家銘', height=151, weight=88),\n",
       " Person(name='張凡成', height=167, weight=101),\n",
       " Person(name='李淑芳', height=163, weight=64),\n",
       " Person(name='黃彥孝', height=193, weight=75),\n",
       " Person(name='羅佩樺', height=159, weight=85),\n",
       " Person(name='劉嘉泰', height=176, weight=53),\n",
       " Person(name='劉耿琦', height=185, weight=81),\n",
       " Person(name='張天亨', height=182, weight=81),\n",
       " Person(name='鄭佳玲', height=191, weight=73),\n",
       " Person(name='陳奇瑄', height=163, weight=65),\n",
       " Person(name='朱士弘', height=153, weight=54),\n",
       " Person(name='元延辛', height=179, weight=52),\n",
       " Person(name='王筱婷', height=177, weight=106),\n",
       " Person(name='陳奇瑄', height=156, weight=96),\n",
       " Person(name='陳倩妮', height=160, weight=106),\n",
       " Person(name='吳孟穎', height=182, weight=108),\n",
       " Person(name='景歡燦', height=171, weight=108),\n",
       " Person(name='黃旻林', height=182, weight=57),\n",
       " Person(name='張嘉韋', height=154, weight=91),\n",
       " Person(name='陳俊憲', height=192, weight=102),\n",
       " Person(name='黃麗美', height=171, weight=99)]"
      ]
     },
     "execution_count": 65,
     "metadata": {},
     "output_type": "execute_result"
    }
   ],
   "source": [
    "persons:list[Person]=[]\n",
    "for name in randomNames:\n",
    "    person=Person(name=name,\n",
    "                  height=randint(150,195),\n",
    "                  weight=randint(50,110))\n",
    "    persons.append(person)\n",
    "persons"
   ]
  }
 ],
 "metadata": {
  "kernelspec": {
   "display_name": "Python 3",
   "language": "python",
   "name": "python3"
  },
  "language_info": {
   "codemirror_mode": {
    "name": "ipython",
    "version": 3
   },
   "file_extension": ".py",
   "mimetype": "text/x-python",
   "name": "python",
   "nbconvert_exporter": "python",
   "pygments_lexer": "ipython3",
   "version": "3.10.13"
  }
 },
 "nbformat": 4,
 "nbformat_minor": 2
}
