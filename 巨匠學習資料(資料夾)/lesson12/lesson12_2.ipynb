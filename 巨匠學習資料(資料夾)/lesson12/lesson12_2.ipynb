{
 "cells": [
  {
   "cell_type": "code",
   "execution_count": null,
   "metadata": {},
   "outputs": [],
   "source": [
    "score={'國文':78,\n",
    "       '英文':86,\n",
    "       '數學':78,\n",
    "       '地理':78,\n",
    "       '歷史':78,}"
   ]
  },
  {
   "cell_type": "code",
   "execution_count": 6,
   "metadata": {},
   "outputs": [
    {
     "name": "stdout",
     "output_type": "stream",
     "text": [
      "<class '__main__.Student'>\n"
     ]
    },
    {
     "data": {
      "text/plain": [
       "(78, 86, 92, 65, 91)"
      ]
     },
     "execution_count": 6,
     "metadata": {},
     "output_type": "execute_result"
    }
   ],
   "source": [
    "class Student:\n",
    "    pass\n",
    "\n",
    "stu1=Student()\n",
    "print(type(stu1))\n",
    "stu1.國文=78\n",
    "stu1.英文=86\n",
    "stu1.數學=92\n",
    "stu1.地理=65\n",
    "stu1.歷史=91\n",
    "stu1.國文,stu1.英文,stu1.數學,stu1.地理,stu1.歷史"
   ]
  },
  {
   "cell_type": "code",
   "execution_count": 30,
   "metadata": {},
   "outputs": [
    {
     "data": {
      "text/plain": [
       "(Student(國文=89, 英文=76, 數學=84, 地理=92, 歷史=68),\n",
       " Student(國文=64, 英文=63, 數學=88, 地理=95, 歷史=88))"
      ]
     },
     "execution_count": 30,
     "metadata": {},
     "output_type": "execute_result"
    }
   ],
   "source": [
    "from pydantic import BaseModel\n",
    "from random import randint\n",
    "\n",
    "class Student(BaseModel):\n",
    "    國文:int = randint(50,100)\n",
    "    英文:int = randint(50,100)\n",
    "    數學:int = randint(50,100)\n",
    "    地理:int = randint(50,100)\n",
    "    歷史:int = randint(50,100)\n",
    "\n",
    "stu1=Student(國文 = randint(50,100),\n",
    "             英文 = randint(50,100),\n",
    "             數學 = randint(50,100),\n",
    "             地理 = randint(50,100),\n",
    "             歷史 = randint(50,100))\n",
    "stu2=Student(國文 = randint(50,100),\n",
    "             英文 = randint(50,100),\n",
    "             數學 = randint(50,100),\n",
    "             地理 = randint(50,100),\n",
    "             歷史 = randint(50,100))\n",
    "stu1,stu2"
   ]
  }
 ],
 "metadata": {
  "kernelspec": {
   "display_name": "Python 3",
   "language": "python",
   "name": "python3"
  },
  "language_info": {
   "codemirror_mode": {
    "name": "ipython",
    "version": 3
   },
   "file_extension": ".py",
   "mimetype": "text/x-python",
   "name": "python",
   "nbconvert_exporter": "python",
   "pygments_lexer": "ipython3",
   "version": "3.10.13"
  }
 },
 "nbformat": 4,
 "nbformat_minor": 2
}
