{
 "cells": [
  {
   "cell_type": "code",
   "execution_count": 7,
   "metadata": {},
   "outputs": [],
   "source": [
    "#list\n",
    "#type hint -> list[int]\n",
    "\n",
    "\n",
    "empty_list:list[int] = []\n",
    "\n",
    "empty_list:list[str] = list()\n",
    "\n",
    "weekday: list[str] = ['星期一','星期二','星期三','星期四','星期五','星期六','星期日']\n",
    "\n",
    "big_birds: list[str] = ['emu','ostrich','cassowary']"
   ]
  },
  {
   "cell_type": "code",
   "execution_count": 6,
   "metadata": {},
   "outputs": [
    {
     "name": "stdout",
     "output_type": "stream",
     "text": [
      "[]\n",
      "['星期一', '星期二', '星期三', '星期四', '星期五', '星期六', '星期日']\n",
      "['emu', 'ostrich', 'cassowary']\n"
     ]
    }
   ],
   "source": [
    "print(empty_list)\n",
    "print(weekday)\n",
    "print(big_birds)"
   ]
  },
  {
   "cell_type": "code",
   "execution_count": 8,
   "metadata": {},
   "outputs": [
    {
     "data": {
      "text/plain": [
       "['星期一', '星期二', '星期三', '星期四', '星期五', '星期六', 'sunday']"
      ]
     },
     "execution_count": 8,
     "metadata": {},
     "output_type": "execute_result"
    }
   ],
   "source": [
    "weekday[6] = 'sunday'\n",
    "weekday"
   ]
  },
  {
   "cell_type": "code",
   "execution_count": 9,
   "metadata": {},
   "outputs": [
    {
     "name": "stdout",
     "output_type": "stream",
     "text": [
      "星期一\n",
      "星期二\n",
      "星期三\n",
      "星期四\n",
      "星期五\n",
      "星期六\n",
      "sunday\n"
     ]
    }
   ],
   "source": [
    "for day in weekday:\n",
    "    print(day) "
   ]
  },
  {
   "cell_type": "code",
   "execution_count": 10,
   "metadata": {},
   "outputs": [
    {
     "name": "stdout",
     "output_type": "stream",
     "text": [
      "(0, '星期一')\n",
      "(1, '星期二')\n",
      "(2, '星期三')\n",
      "(3, '星期四')\n",
      "(4, '星期五')\n",
      "(5, '星期六')\n",
      "(6, 'sunday')\n"
     ]
    }
   ],
   "source": [
    "for day in enumerate(weekday):\n",
    "    print(day)"
   ]
  },
  {
   "cell_type": "code",
   "execution_count": 12,
   "metadata": {},
   "outputs": [
    {
     "name": "stdout",
     "output_type": "stream",
     "text": [
      "索引編號0,值是星期一\n",
      "索引編號1,值是星期二\n",
      "索引編號2,值是星期三\n",
      "索引編號3,值是星期四\n",
      "索引編號4,值是星期五\n",
      "索引編號5,值是星期六\n",
      "索引編號6,值是sunday\n"
     ]
    }
   ],
   "source": [
    "for index,value in enumerate(weekday):\n",
    "    print(f'索引編號{index},值是{value}')"
   ]
  },
  {
   "cell_type": "code",
   "execution_count": 14,
   "metadata": {},
   "outputs": [
    {
     "data": {
      "text/plain": [
       "['H', 'e', 'l', 'l', 'o', ',', 'W', 'o', 'r', 'l', 'd']"
      ]
     },
     "execution_count": 14,
     "metadata": {},
     "output_type": "execute_result"
    }
   ],
   "source": [
    "#sequence\n",
    "#iterable\n",
    "#不可變變數\n",
    "\n",
    "'Hello,World'\n",
    "list1 = list('Hello,World')\n",
    "list1"
   ]
  },
  {
   "cell_type": "code",
   "execution_count": null,
   "metadata": {},
   "outputs": [],
   "source": [
    "list1[0,-1]\n",
    "list1[0]\n"
   ]
  },
  {
   "cell_type": "code",
   "execution_count": 39,
   "metadata": {},
   "outputs": [
    {
     "data": {
      "text/plain": [
       "['W', 'o', 'r', 'l', 'd']"
      ]
     },
     "execution_count": 39,
     "metadata": {},
     "output_type": "execute_result"
    }
   ],
   "source": [
    "list1[0:5]\n",
    "list1[-5:]"
   ]
  }
 ],
 "metadata": {
  "kernelspec": {
   "display_name": "Python 3",
   "language": "python",
   "name": "python3"
  },
  "language_info": {
   "codemirror_mode": {
    "name": "ipython",
    "version": 3
   },
   "file_extension": ".py",
   "mimetype": "text/x-python",
   "name": "python",
   "nbconvert_exporter": "python",
   "pygments_lexer": "ipython3",
   "version": "3.10.13"
  }
 },
 "nbformat": 4,
 "nbformat_minor": 2
}
