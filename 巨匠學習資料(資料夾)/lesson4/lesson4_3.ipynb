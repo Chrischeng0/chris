{
 "cells": [
  {
   "cell_type": "code",
   "execution_count": 2,
   "metadata": {},
   "outputs": [
    {
     "data": {
      "text/plain": [
       "True"
      ]
     },
     "execution_count": 2,
     "metadata": {},
     "output_type": "execute_result"
    }
   ],
   "source": [
    "5==5"
   ]
  },
  {
   "cell_type": "code",
   "execution_count": 3,
   "metadata": {},
   "outputs": [
    {
     "name": "stdout",
     "output_type": "stream",
     "text": [
      "程式開始\n",
      "5>3\n",
      "5真的大於3\n",
      "程式結束\n"
     ]
    }
   ],
   "source": [
    "print(\"程式開始\")\n",
    "#單項選擇,true的程式區塊\n",
    "if 5 > 3:\n",
    "    print(\"5>3\")\n",
    "    print(\"5真的大於3\")\n",
    "print(\"程式結束\")\n"
   ]
  },
  {
   "cell_type": "code",
   "execution_count": 5,
   "metadata": {},
   "outputs": [
    {
     "name": "stdout",
     "output_type": "stream",
     "text": [
      "程式開始\n",
      "失敗\n",
      "程式結束\n"
     ]
    }
   ],
   "source": [
    "print(\"程式開始\")\n",
    "#雙項選擇\n",
    "if 5 > 6:\n",
    "    print(\"5>3\")\n",
    "    print(\"5真的大於3\")\n",
    "else:\n",
    "    #false的程式區塊\n",
    "    print(\"失敗\")\n",
    "print(\"程式結束\")"
   ]
  },
  {
   "cell_type": "code",
   "execution_count": 10,
   "metadata": {},
   "outputs": [
    {
     "name": "stdout",
     "output_type": "stream",
     "text": [
      "學生總分為300\n"
     ]
    }
   ],
   "source": [
    "#學生總分為300分\n",
    "#有些學生可以加分5%\n",
    "#如果超過300分,就是300分\n",
    "\n",
    "#type hint\n",
    "#資料型別的提醒\n",
    "\n",
    "scores=int(input(\"請輸入學生分數(最高300分)\"))\n",
    "is_add=input(\"學生是否府和加分條件?(y,n)\")\n",
    "\n",
    "#多個條件,使用巢狀判斷\n",
    "if is_add == \"y\":\n",
    "    scores *=1.05\n",
    "    if scores > 300:\n",
    "        scores = 300\n",
    "else:\n",
    "    print(\"學生沒有加分\")\n",
    "\n",
    "print(f\"學生總分為{scores:.0f}\")"
   ]
  },
  {
   "cell_type": "code",
   "execution_count": 4,
   "metadata": {},
   "outputs": [
    {
     "name": "stdout",
     "output_type": "stream",
     "text": [
      "學生總分為336\n"
     ]
    }
   ],
   "source": [
    "#學生總分為500分\n",
    "#有些學生可以加分5%\n",
    "#如果超過500分,就是500分\n",
    "\n",
    "#type hint\n",
    "#資料型別的提醒\n",
    "\n",
    "scores=int(input(\"請輸入學生分數(最高500分)\"))\n",
    "is_add=input(\"學生是否府和加分條件?(y,n)\")\n",
    "\n",
    "\n",
    "\n",
    "#單項選擇\n",
    "if is_add == \"y\":\n",
    "    scores *=1.05\n",
    "    if scores > 500:\n",
    "        scores = 500\n",
    "\n",
    "#雙項選擇\n",
    "if is_add != \"n\":\n",
    "    scores *=1\n",
    "\n",
    "print(f\"學生總分為{scores:.0f}\")"
   ]
  }
 ],
 "metadata": {
  "kernelspec": {
   "display_name": "Python 3",
   "language": "python",
   "name": "python3"
  },
  "language_info": {
   "codemirror_mode": {
    "name": "ipython",
    "version": 3
   },
   "file_extension": ".py",
   "mimetype": "text/x-python",
   "name": "python",
   "nbconvert_exporter": "python",
   "pygments_lexer": "ipython3",
   "version": "3.10.13"
  }
 },
 "nbformat": 4,
 "nbformat_minor": 2
}
