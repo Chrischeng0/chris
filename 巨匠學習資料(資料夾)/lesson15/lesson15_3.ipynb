{
 "cells": [
  {
   "cell_type": "code",
   "execution_count": 6,
   "metadata": {},
   "outputs": [
    {
     "data": {
      "text/plain": [
       "2"
      ]
     },
     "execution_count": 6,
     "metadata": {},
     "output_type": "execute_result"
    }
   ],
   "source": [
    "import random\n",
    "random.randint(1,5)"
   ]
  },
  {
   "cell_type": "code",
   "execution_count": 39,
   "metadata": {},
   "outputs": [
    {
     "data": {
      "text/plain": [
       "array([[ 62,  55,  55,  54,  88],\n",
       "       [ 59,  84,  57,  62,  75],\n",
       "       [ 66,  80,  98,  61,  80],\n",
       "       [ 58,  67,  90,  79,  51],\n",
       "       [ 74,  64,  81,  68,  51],\n",
       "       [ 71,  90,  77,  85,  58],\n",
       "       [ 63,  55,  64,  54,  83],\n",
       "       [ 82,  87,  92,  87,  69],\n",
       "       [ 59,  62,  95,  81,  74],\n",
       "       [ 83,  53,  67,  80,  86],\n",
       "       [ 86,  71,  89,  70,  59],\n",
       "       [ 82,  92,  55,  82,  53],\n",
       "       [ 58,  82,  90,  76,  66],\n",
       "       [ 94,  69,  75,  67,  82],\n",
       "       [ 89,  61,  86,  86,  50],\n",
       "       [ 83,  75,  97, 100,  99],\n",
       "       [ 96,  56,  75,  58,  91],\n",
       "       [ 72,  82,  69,  77,  81],\n",
       "       [100,  74,  84,  64,  90],\n",
       "       [ 50,  54,  77,  62,  97],\n",
       "       [ 59,  67,  68,  98,  92],\n",
       "       [ 96,  68,  76,  57,  79],\n",
       "       [ 76,  78,  77,  51,  99],\n",
       "       [ 67,  63,  92,  53,  55],\n",
       "       [ 85,  72,  98,  95, 100],\n",
       "       [ 72,  99,  50,  56,  82],\n",
       "       [ 85,  63,  65,  85,  93],\n",
       "       [ 58,  53,  96,  55,  72],\n",
       "       [ 97,  52,  80,  69,  82],\n",
       "       [ 62,  93,  77,  81,  74],\n",
       "       [ 84,  73,  66,  65,  63],\n",
       "       [ 57, 100,  65,  86,  62],\n",
       "       [ 75,  54,  83,  52,  88],\n",
       "       [ 72,  95,  81,  90,  70],\n",
       "       [ 80,  78,  71,  95,  54],\n",
       "       [ 60,  81,  55,  89,  87],\n",
       "       [ 83,  56,  68,  89,  74],\n",
       "       [ 85,  99,  82,  98,  99],\n",
       "       [ 58,  87,  66,  94,  96],\n",
       "       [ 86,  69,  53,  82,  92],\n",
       "       [ 69,  67,  62,  52,  65],\n",
       "       [ 56,  99,  50,  70,  57],\n",
       "       [ 50,  70,  92,  62,  71],\n",
       "       [ 91,  71,  66,  85,  53],\n",
       "       [ 98,  74,  95,  72,  71],\n",
       "       [ 88,  78,  66,  52,  64],\n",
       "       [ 78,  79,  68,  93,  92],\n",
       "       [ 74,  77,  54,  53,  77],\n",
       "       [ 78,  65,  68,  56,  55],\n",
       "       [ 91,  83,  72,  51,  70]])"
      ]
     },
     "execution_count": 39,
     "metadata": {},
     "output_type": "execute_result"
    }
   ],
   "source": [
    "import numpy as np\n",
    "scores = np.random.randint(50,101,size=(50,5))\n",
    "scores"
   ]
  },
  {
   "cell_type": "code",
   "execution_count": 37,
   "metadata": {},
   "outputs": [
    {
     "data": {
      "text/plain": [
       "array([ 92,  78,  95, 100,  64])"
      ]
     },
     "execution_count": 37,
     "metadata": {},
     "output_type": "execute_result"
    }
   ],
   "source": [
    "scores[0]"
   ]
  },
  {
   "cell_type": "code",
   "execution_count": 40,
   "metadata": {},
   "outputs": [
    {
     "data": {
      "text/plain": [
       "array([[62, 55, 55, 54, 88],\n",
       "       [59, 84, 57, 62, 75],\n",
       "       [66, 80, 98, 61, 80]])"
      ]
     },
     "execution_count": 40,
     "metadata": {},
     "output_type": "execute_result"
    }
   ],
   "source": [
    "scores[0:3]"
   ]
  },
  {
   "cell_type": "code",
   "execution_count": 41,
   "metadata": {},
   "outputs": [
    {
     "data": {
      "text/plain": [
       "array([62, 59, 66])"
      ]
     },
     "execution_count": 41,
     "metadata": {},
     "output_type": "execute_result"
    }
   ],
   "source": [
    "scores[0:3,0]"
   ]
  }
 ],
 "metadata": {
  "kernelspec": {
   "display_name": "Python 3",
   "language": "python",
   "name": "python3"
  },
  "language_info": {
   "codemirror_mode": {
    "name": "ipython",
    "version": 3
   },
   "file_extension": ".py",
   "mimetype": "text/x-python",
   "name": "python",
   "nbconvert_exporter": "python",
   "pygments_lexer": "ipython3",
   "version": "3.10.13"
  }
 },
 "nbformat": 4,
 "nbformat_minor": 2
}
