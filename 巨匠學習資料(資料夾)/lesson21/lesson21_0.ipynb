{
 "cells": [
  {
   "cell_type": "code",
   "execution_count": null,
   "metadata": {},
   "outputs": [],
   "source": [
    "import os\n",
    "import pandas as pd\n",
    "\n",
    "file_names:list[str] = os.listdir('縣市長')\n",
    "abs_paths:list[str] = []\n",
    "for name in file_names:    \n",
    "    if 'xls' in name:\n",
    "        abs_paths.append(os.path.abspath(f'縣市長/{name}'))\n",
    "\n",
    "df1 = pd.read_excel(abs_paths[0],header=1,usecols=['行政區別','村里別','各候選人得票情形','Unnamed: 4','Unnamed: 5','Unnamed: 6'])\n",
    "print(df1.info())\n",
    "df1.columns = ['行政區別','村里別','林佳瑜','李進勇','王麗萍','張麗善']\n",
    "df2 = df1.drop(index=[0,1,2])\n",
    "df2"
   ]
  },
  {
   "cell_type": "code",
   "execution_count": null,
   "metadata": {},
   "outputs": [],
   "source": [
    "df2['行政區別'] = '麥寮鄉'\n",
    "df3 = df2.drop(index=[3])\n",
    "df3.info()\n"
   ]
  },
  {
   "cell_type": "code",
   "execution_count": null,
   "metadata": {},
   "outputs": [],
   "source": [
    "df4 = df3.astype({'林佳瑜':int,'李進勇':int,'王麗萍':int,'張麗善':int})\n",
    "df4.info()"
   ]
  },
  {
   "cell_type": "code",
   "execution_count": null,
   "metadata": {},
   "outputs": [],
   "source": [
    "df5 = df4.dropna()\n",
    "df5"
   ]
  }
 ],
 "metadata": {
  "kernelspec": {
   "display_name": "Python 3",
   "language": "python",
   "name": "python3"
  },
  "language_info": {
   "codemirror_mode": {
    "name": "ipython",
    "version": 3
   },
   "file_extension": ".py",
   "mimetype": "text/x-python",
   "name": "python",
   "nbconvert_exporter": "python",
   "pygments_lexer": "ipython3",
   "version": "3.10.13"
  }
 },
 "nbformat": 4,
 "nbformat_minor": 2
}
