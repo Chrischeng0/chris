{
 "cells": [
  {
   "cell_type": "code",
   "execution_count": null,
   "metadata": {},
   "outputs": [],
   "source": [
    "#BMI值計算公式:    BMI = 體重(公斤) / 身高2(公尺2)\n",
    "\n",
    "import pyinputplus as ps\n",
    "\n",
    "height=eval(input(\"請輸入身高(公分):\",max=250, min=120))\n",
    "weight=eval(input('請輸入體重(公斤):'))\n",
    "bmi=weight/(height/100)**2\n",
    "print(f'您的身高:{height}公分')\n",
    "print(f'您的體重:{weight}公斤')\n",
    "#字串格式化的格式化文字語法\n",
    "print(f'您的bmi:{bmi:.2f}')"
   ]
  }
 ],
 "metadata": {
  "kernelspec": {
   "display_name": "Python 3",
   "language": "python",
   "name": "python3"
  },
  "language_info": {
   "codemirror_mode": {
    "name": "ipython",
    "version": 3
   },
   "file_extension": ".py",
   "mimetype": "text/x-python",
   "name": "python",
   "nbconvert_exporter": "python",
   "pygments_lexer": "ipython3",
   "version": "3.10.13"
  }
 },
 "nbformat": 4,
 "nbformat_minor": 2
}
