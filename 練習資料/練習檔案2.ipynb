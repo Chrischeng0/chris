{
 "cells": [
  {
   "cell_type": "code",
   "execution_count": null,
   "metadata": {},
   "outputs": [],
   "source": [
    "import pygame\n",
    "import random\n",
    "pygame.init()\n",
    "width,height=500,500\n",
    "screen=pygame.display.set_mode((width,height))\n",
    "white=(225,225,225)\n",
    "black=(0,0,0)\n",
    "red=(255,0,0)\n",
    "green=(0,255,0)\n",
    "gray=(150,150,150)\n",
    "map_width, map_height = 10,10\n",
    "mine_num=1\n",
    "map_array=[[0 for y in range(map_height)]for x in range(map_width)]\n",
    "map_visited=[[0 for y in range(map_height)]for x in range(map_width)]\n",
    "map_num=[[0 for y in range(map_height)]for x in range(map_width)]\n",
    "\n",
    "def resetMap(map_array,map_visited,map_num,mine_num):\n",
    "    for x in range(map_width):\n",
    "        for y in range(map_height):\n",
    "            map_array[x][y]=0\n",
    "            map_visited[x][y]=0\n",
    "            map_num[x][y]=0\n",
    "    for i in range(mine_num):\n",
    "        x, y = random.randint(0,map_width-1), random.randint(0,map_height-1)\n",
    "        while map_array[x][y] == 1:\n",
    "            x, y = random.randint(0,map_width-1), random.randint(0,map_height-1)\n",
    "        map_array[x][y] = 1\n",
    "    for x in range(map_width):\n",
    "        for y in range(map_height):\n",
    "            if map_array[x][y]==1:\n",
    "                map_num[x][y]=-1\n",
    "            else:\n",
    "                for i in range(x-1,x+2):\n",
    "                    for i in range(y-1,y+2):\n",
    "                        if i<map_width and i >= 0 and i<map_height and i>=0:\n",
    "                            map_num[x][y] += map_array[i][i]\n",
    "resetMap(map_array,map_visited,map_num,mine_num)\n",
    "running = True \n",
    "gameover = False\n",
    "success = False \n",
    "while running:\n",
    "    for event in pygame.event.get():\n",
    "        if event.type == pygame.QUIT:\n",
    "            running = False\n",
    "        if event.type == pygame.MOUSEBUTTONDOWN:\n",
    "            pos = pygame.mouse.get.pos()\n",
    "            x = pos[0] // 50\n",
    "            y = pos[1] // 50\n",
    "            if map_array[x][y]==1:\n",
    "                for x in range (map_width):\n",
    "                    for x in range (map_height):\n",
    "                        map_visited[x][y] = 1"
   ]
  }
 ],
 "metadata": {
  "kernelspec": {
   "display_name": "Python 3",
   "language": "python",
   "name": "python3"
  },
  "language_info": {
   "codemirror_mode": {
    "name": "ipython",
    "version": 3
   },
   "file_extension": ".py",
   "mimetype": "text/x-python",
   "name": "python",
   "nbconvert_exporter": "python",
   "pygments_lexer": "ipython3",
   "version": "3.10.13"
  }
 },
 "nbformat": 4,
 "nbformat_minor": 2
}
