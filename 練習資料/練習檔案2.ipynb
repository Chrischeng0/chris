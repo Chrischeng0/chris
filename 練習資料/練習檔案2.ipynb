{
 "cells": [
  {
   "cell_type": "code",
   "execution_count": null,
   "metadata": {},
   "outputs": [],
   "source": [
    "##重設##\n",
    "金錢=1000\n",
    "聖水=0\n",
    "總兵=0\n",
    "野人=1\n",
    "箭手=2\n",
    "巨人=5\n",
    "野人力=1\n",
    "箭手力=2\n",
    "巨人力=5\n",
    "兵=2\n",
    "攻擊力=0\n",
    "練兵空間=10\n",
    "法術空間=0"
   ]
  },
  {
   "cell_type": "code",
   "execution_count": null,
   "metadata": {},
   "outputs": [],
   "source": [
    "import random\n",
    "建築=input(f'你有{金錢}塊錢 1兵營=150 2訓練營=100 3法術爐=150  ')\n",
    "if 建築=='1':\n",
    "    金錢=金錢-150\n",
    "    練兵空間=練兵空間+10 \n",
    "    空間兵=input(f'你有{練兵空間}個練兵空間')\n",
    "elif 建築=='2':\n",
    "    兵=3\n",
    "    多了=input('兵種多了巨人')\n",
    "    金錢=金錢-100\n",
    "else:\n",
    "    金錢=金錢-150\n",
    "    法術空間=4\n",
    "    空間法=input(f'你有{法術空間}個法術空間')\n",
    "行動=input('1採金,聖水 2練兵 3製作法術 4蓋建築 5打劫 6升級')\n",
    "if 行動=='1':\n",
    "    金錢=金錢+100\n",
    "    聖水=聖水+100\n",
    "    收集=input(f'你有{金錢}塊錢 {聖水}點聖水')\n",
    "elif 行動=='2':\n",
    "elif 行動=='3':\n",
    "elif 行動=='4':\n",
    "elif 行動=='5':\n",
    "else:\n"
   ]
  }
 ],
 "metadata": {
  "kernelspec": {
   "display_name": "Python 3",
   "language": "python",
   "name": "python3"
  },
  "language_info": {
   "codemirror_mode": {
    "name": "ipython",
    "version": 3
   },
   "file_extension": ".py",
   "mimetype": "text/x-python",
   "name": "python",
   "nbconvert_exporter": "python",
   "pygments_lexer": "ipython3",
   "version": "3.10.13"
  }
 },
 "nbformat": 4,
 "nbformat_minor": 2
}
