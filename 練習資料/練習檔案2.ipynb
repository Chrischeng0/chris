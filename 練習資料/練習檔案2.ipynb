{
 "cells": [
  {
   "cell_type": "code",
   "execution_count": null,
   "metadata": {},
   "outputs": [],
   "source": [
    "import random\n",
    "with open('names.txt',encoding='utf-8')as file:\n",
    "    names:str=file.read()\n",
    "name_list:list[str]=names.split(sep='\\n')\n",
    "random.choice(name_list)\n",
    "random.choices(name_list,k=6)"
   ]
  },
  {
   "cell_type": "code",
   "execution_count": 15,
   "metadata": {},
   "outputs": [],
   "source": [
    "##密碼##\n",
    "密碼='me mar'\n",
    "驗證碼=rm.randint(100,500)\n"
   ]
  },
  {
   "cell_type": "code",
   "execution_count": null,
   "metadata": {},
   "outputs": [],
   "source": [
    "##找密碼##\n",
    "with()as file:    \n",
    "    密碼是=file.read()"
   ]
  },
  {
   "cell_type": "code",
   "execution_count": null,
   "metadata": {},
   "outputs": [],
   "source": [
    "import pygame\n",
    "import random\n",
    "pygame.init()\n",
    "width,height=500,500\n",
    "screen=pygame.display.set_mode((width,height))\n",
    "white=(225,225,225)\n",
    "black=(0,0,0)\n",
    "red=(255,0,0)\n",
    "green=(0,255,0)\n",
    "gray=(150,150,150)\n",
    "map_width, map_height = 10,10\n",
    "mine_num=1\n",
    "map_array=[[0 for y in range(map_height)]for x in range(map_width)]\n",
    "map_visited=[[0 for y in range(map_height)]for x in range(map_width)]\n",
    "map_num=[[0 for y in range(map_height)]for x in range(map_width)]\n",
    "\n",
    "def resetMap(map_array,map_visited,map_num,mine_num):\n",
    "    for x in range(map_width):\n",
    "        for y in range(map_height):\n",
    "            "
   ]
  }
 ],
 "metadata": {
  "kernelspec": {
   "display_name": "Python 3",
   "language": "python",
   "name": "python3"
  },
  "language_info": {
   "codemirror_mode": {
    "name": "ipython",
    "version": 3
   },
   "file_extension": ".py",
   "mimetype": "text/x-python",
   "name": "python",
   "nbconvert_exporter": "python",
   "pygments_lexer": "ipython3",
   "version": "3.10.13"
  }
 },
 "nbformat": 4,
 "nbformat_minor": 2
}
