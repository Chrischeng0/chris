{
 "cells": [
  {
   "cell_type": "code",
   "execution_count": null,
   "metadata": {},
   "outputs": [],
   "source": [
    "##猜數字遊戲##\n",
    "import random as rm\n",
    "min=1\n",
    "max=100\n",
    "guess=rm.randint(min,max)\n",
    "count = 0\n",
    "\n",
    "print(\"==============猜數字遊戲==============\\n\\n\")\n",
    "#print(f'要猜的數字是{guess}')\n",
    "while(True):\n",
    "    try:\n",
    "        keyin=int(input(f'猜數字遊戲{min}-{max}'))\n",
    "        count+=1\n",
    "\n",
    "        if(max>=keyin>=min):\n",
    "            if keyin==guess:\n",
    "                print(f'賓果!猜對了,答案是:{guess}')\n",
    "                print(f'您已經猜了{count}次')\n",
    "                break\n",
    "            elif :\n",
    "                print('猜錯了')\n",
    "                continue\n",
    "        else:\n",
    "            print('超出範圍')\n",
    "            count+=1\n",
    "  \n",
    "    except:\n",
    "        print('輸入格式錯誤')\n",
    "\n",
    "    count+=1\n",
    "    print(f'您已經猜了{count}次')\n",
    "print('遊戲結束')"
   ]
  }
 ],
 "metadata": {
  "kernelspec": {
   "display_name": "Python 3",
   "language": "python",
   "name": "python3"
  },
  "language_info": {
   "codemirror_mode": {
    "name": "ipython",
    "version": 3
   },
   "file_extension": ".py",
   "mimetype": "text/x-python",
   "name": "python",
   "nbconvert_exporter": "python",
   "pygments_lexer": "ipython3",
   "version": "3.10.13"
  }
 },
 "nbformat": 4,
 "nbformat_minor": 2
}
