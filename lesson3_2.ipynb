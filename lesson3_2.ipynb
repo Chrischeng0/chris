{
 "cells": [
  {
   "cell_type": "code",
   "execution_count": 10,
   "metadata": {},
   "outputs": [
    {
     "name": "stdout",
     "output_type": "stream",
     "text": [
      "您的身高:145公分\n",
      "您的身高:35公斤\n",
      "您的bmi:16.65\n"
     ]
    }
   ],
   "source": [
    "#BMI值計算公式:    BMI = 體重(公斤) / 身高2(公尺2)\n",
    "\n",
    "height=eval(input(\"請輸入身高(公分):\"))\n",
    "weight=eval(input('請輸入體重(公斤):'))\n",
    "bmi=weight/(height/100)**2\n",
    "print(f'您的身高:{height}公分')\n",
    "print(f'您的體重:{weight}公斤')\n",
    "#字串格式化的格式化文字語法\n",
    "print(f'您的bmi:{bmi:.2f}')\n"
   ]
  },
  {
   "cell_type": "code",
   "execution_count": 13,
   "metadata": {},
   "outputs": [
    {
     "data": {
      "text/plain": [
       "'我的身高是135.111111111'"
      ]
     },
     "execution_count": 13,
     "metadata": {},
     "output_type": "execute_result"
    }
   ],
   "source": [
    "#字串插補(字串格式化)\n",
    "height=135.111111111\n",
    "\n",
    "f'我的身高是{height}'"
   ]
  },
  {
   "cell_type": "code",
   "execution_count": 14,
   "metadata": {},
   "outputs": [
    {
     "data": {
      "text/plain": [
       "5"
      ]
     },
     "execution_count": 14,
     "metadata": {},
     "output_type": "execute_result"
    }
   ],
   "source": [
    "eval(input(\"請輸入直角三角形的斜邊\"))\n",
    "eval(input(\"請輸入直角三角形的對邊\"))"
   ]
  },
  {
   "cell_type": "code",
   "execution_count": 4,
   "metadata": {},
   "outputs": [
    {
     "data": {
      "text/plain": [
       "15.31"
      ]
     },
     "execution_count": 4,
     "metadata": {},
     "output_type": "execute_result"
    }
   ],
   "source": [
    "num1=15.314625467321292\n",
    "\n",
    "round(num1,ndigits=2)"
   ]
  }
 ],
 "metadata": {
  "kernelspec": {
   "display_name": "Python 3",
   "language": "python",
   "name": "python3"
  },
  "language_info": {
   "codemirror_mode": {
    "name": "ipython",
    "version": 3
   },
   "file_extension": ".py",
   "mimetype": "text/x-python",
   "name": "python",
   "nbconvert_exporter": "python",
   "pygments_lexer": "ipython3",
   "version": "3.10.13"
  }
 },
 "nbformat": 4,
 "nbformat_minor": 2
}
