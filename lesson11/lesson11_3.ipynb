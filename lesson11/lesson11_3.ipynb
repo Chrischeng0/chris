{
 "cells": [
  {
   "cell_type": "code",
   "execution_count": 12,
   "metadata": {},
   "outputs": [
    {
     "data": {
      "text/plain": [
       "[{'國文': 84, '英文': 55, '數學': 51},\n",
       " {'國文': 61, '英文': 97, '數學': 89},\n",
       " {'國文': 74, '英文': 64, '數學': 98},\n",
       " {'國文': 53, '英文': 59, '數學': 52},\n",
       " {'國文': 90, '英文': 90, '數學': 83},\n",
       " {'國文': 92, '英文': 57, '數學': 97},\n",
       " {'國文': 51, '英文': 99, '數學': 70},\n",
       " {'國文': 65, '英文': 55, '數學': 100},\n",
       " {'國文': 53, '英文': 71, '數學': 98},\n",
       " {'國文': 100, '英文': 100, '數學': 100}]"
      ]
     },
     "execution_count": 12,
     "metadata": {},
     "output_type": "execute_result"
    }
   ],
   "source": [
    "student=[{'國文': 84, '英文': 55, '數學': 51},\n",
    "         {'國文': 61, '英文': 97, '數學': 89},\n",
    "         {'國文': 74, '英文': 64, '數學': 98},\n",
    "         {'國文': 53, '英文': 59, '數學': 52}, \n",
    "         {'國文': 90, '英文': 90, '數學': 83},\n",
    "         {'國文': 92, '英文': 57, '數學': 97},\n",
    "         {'國文': 51, '英文': 99, '數學': 70},\n",
    "         {'國文': 65, '英文': 55, '數學': 100}, \n",
    "         {'國文': 53, '英文': 71, '數學': 98},\n",
    "         {'國文': 100, '英文': 100, '數學': 100}]\n",
    "student"
   ]
  },
  {
   "cell_type": "code",
   "execution_count": 15,
   "metadata": {},
   "outputs": [
    {
     "name": "stdout",
     "output_type": "stream",
     "text": [
      "students.csv存檔完成\n"
     ]
    }
   ],
   "source": [
    "import csv as c\n",
    "with open('studends.csv',mode='w',encoding='utf-8',newline='') as  csvfile:\n",
    "    writer=c.DictWriter(csvfile,fieldnames=['國文','數學','英文'])\n",
    "    writer.writeheader()\n",
    "    writer.writerows(student)\n",
    "\n",
    "print('students.csv存檔完成')\n"
   ]
  }
 ],
 "metadata": {
  "kernelspec": {
   "display_name": "Python 3",
   "language": "python",
   "name": "python3"
  },
  "language_info": {
   "codemirror_mode": {
    "name": "ipython",
    "version": 3
   },
   "file_extension": ".py",
   "mimetype": "text/x-python",
   "name": "python",
   "nbconvert_exporter": "python",
   "pygments_lexer": "ipython3",
   "version": "3.10.13"
  }
 },
 "nbformat": 4,
 "nbformat_minor": 2
}
