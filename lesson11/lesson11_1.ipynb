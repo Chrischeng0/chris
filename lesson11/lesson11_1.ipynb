{
 "cells": [
  {
   "cell_type": "code",
   "execution_count": null,
   "metadata": {},
   "outputs": [],
   "source": [
    "import random\n",
    "students:list[dict] = []\n",
    "\n",
    "for _ in range(50):\n",
    "   student = {'國文':random.randint(50,100),\n",
    "              '英文':random.randint(50,100),\n",
    "              '數學':random.randint(50,100)}\n",
    "   students.append(student)\n",
    "students"
   ]
  },
  {
   "cell_type": "code",
   "execution_count": 29,
   "metadata": {},
   "outputs": [
    {
     "data": {
      "text/plain": [
       "[{'國文': 98, '英文': 58, '數學': 95},\n",
       " {'國文': 95, '英文': 69, '數學': 90},\n",
       " {'國文': 66, '英文': 96, '數學': 73},\n",
       " {'國文': 92, '英文': 69, '數學': 92},\n",
       " {'國文': 80, '英文': 54, '數學': 58}]"
      ]
     },
     "execution_count": 29,
     "metadata": {},
     "output_type": "execute_result"
    }
   ],
   "source": [
    "import random\n",
    "students:list[dict] = []\n",
    "\n",
    "for _ in range(5):\n",
    "    student:dict[str,int]={}\n",
    "    for subjest in ['國文','英文','數學']:\n",
    "        student[subjest]=random.randint(50,100)           \n",
    "    students.append(student)\n",
    "students"
   ]
  },
  {
   "cell_type": "code",
   "execution_count": null,
   "metadata": {},
   "outputs": [],
   "source": [
    "import pyinputplus as pyip\n",
    "import random\n",
    "num=pyip.inputInt('請輸入學生數量')\n",
    "students:list[dict] = []\n",
    "\n",
    "for _ in range(num):\n",
    "    student:dict[str,int]={}\n",
    "    for subjest in ['國文','英文','數學']:\n",
    "        student[subjest]=random.randint(50,100)           \n",
    "    students.append(student)\n",
    "students"
   ]
  }
 ],
 "metadata": {
  "kernelspec": {
   "display_name": "Python 3",
   "language": "python",
   "name": "python3"
  },
  "language_info": {
   "codemirror_mode": {
    "name": "ipython",
    "version": 3
   },
   "file_extension": ".py",
   "mimetype": "text/x-python",
   "name": "python",
   "nbconvert_exporter": "python",
   "pygments_lexer": "ipython3",
   "version": "3.10.13"
  }
 },
 "nbformat": 4,
 "nbformat_minor": 2
}
