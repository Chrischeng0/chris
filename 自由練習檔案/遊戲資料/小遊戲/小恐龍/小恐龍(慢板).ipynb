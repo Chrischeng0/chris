{
 "cells": [
  {
   "cell_type": "code",
   "execution_count": 1,
   "metadata": {},
   "outputs": [],
   "source": [
    "##小恐龍(慢板)##\n",
    "from random import randint as rt\n",
    "e=10\n",
    "for i in range(10):\n",
    "    die=rt(1,4)\n",
    "    w=int(input('1跳'))\n",
    "    if w==1:\n",
    "        if die==2:\n",
    "            input('你死了')\n",
    "            break\n",
    "        else:\n",
    "            e-=1\n",
    "            if e==0:\n",
    "                input('你贏了')\n",
    "            else:\n",
    "                continue"
   ]
  }
 ],
 "metadata": {
  "kernelspec": {
   "display_name": "Python 3",
   "language": "python",
   "name": "python3"
  },
  "language_info": {
   "codemirror_mode": {
    "name": "ipython",
    "version": 3
   },
   "file_extension": ".py",
   "mimetype": "text/x-python",
   "name": "python",
   "nbconvert_exporter": "python",
   "pygments_lexer": "ipython3",
   "version": "3.10.13"
  }
 },
 "nbformat": 4,
 "nbformat_minor": 2
}
