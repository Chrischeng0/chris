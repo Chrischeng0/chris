{
 "cells": [
  {
   "cell_type": "code",
   "execution_count": null,
   "metadata": {},
   "outputs": [],
   "source": [
    "##跳格子(六格版)##\n",
    "from random import randint as rt\n",
    "格子數=6\n",
    "e=0\n",
    "for _ in range(6):\n",
    "    a=rt(1,3)\n",
    "    b=rt(1,3)\n",
    "    input(f'你在地{e}格')\n",
    "    跳=int(input('1跳左邊 2跳右邊'))\n",
    "    if 跳==1:\n",
    "        if a!=3:\n",
    "            input('你沒事')\n",
    "            格子數-=1\n",
    "            e+=2\n",
    "        else:\n",
    "            input('出局')\n",
    "            break\n",
    "    if 跳==2:\n",
    "        if b!=3:\n",
    "            input('你沒事')\n",
    "            格子數-=1\n",
    "            e+=2\n",
    "        else:\n",
    "            input('出局')\n",
    "            break\n",
    "    if 格子數==0:\n",
    "        input('你贏了')\n",
    "    else:\n",
    "        continue\n",
    "input('遊戲結束')\n",
    "\n"
   ]
  }
 ],
 "metadata": {
  "kernelspec": {
   "display_name": "Python 3",
   "language": "python",
   "name": "python3"
  },
  "language_info": {
   "codemirror_mode": {
    "name": "ipython",
    "version": 3
   },
   "file_extension": ".py",
   "mimetype": "text/x-python",
   "name": "python",
   "nbconvert_exporter": "python",
   "pygments_lexer": "ipython3",
   "version": "3.10.13"
  }
 },
 "nbformat": 4,
 "nbformat_minor": 2
}
