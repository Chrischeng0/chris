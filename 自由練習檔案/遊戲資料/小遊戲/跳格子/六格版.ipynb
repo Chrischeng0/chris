{
 "cells": [
  {
   "cell_type": "code",
   "execution_count": null,
   "metadata": {},
   "outputs": [],
   "source": [
    "from random import randint as rt\n",
    "遊玩次數=int(input('請輸入遊玩次數'))\n",
    "for _ in range(遊玩次數):\n",
    "    a=rt(1,2)\n",
    "    b=rt(1,2)\n",
    "    c=rt(1,2)\n",
    "    d=rt(1,2)\n",
    "    e=rt(1,2)\n",
    "    f=rt(1,2)\n",
    "    input('你在')\n",
    "    跳=int(input('1跳左邊 2跳右邊'))\n",
    "\n"
   ]
  }
 ],
 "metadata": {
  "kernelspec": {
   "display_name": "Python 3",
   "language": "python",
   "name": "python3"
  },
  "language_info": {
   "name": "python",
   "version": "3.10.13"
  }
 },
 "nbformat": 4,
 "nbformat_minor": 2
}
