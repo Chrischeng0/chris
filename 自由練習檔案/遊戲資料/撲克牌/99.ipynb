{
 "cells": [
  {
   "cell_type": "code",
   "execution_count": null,
   "metadata": {},
   "outputs": [],
   "source": [
    "##99##\n",
    "from random import randint as rt\n",
    "a=rt(1,13)\n",
    "b=rt(1,13)\n",
    "c=rt(1,13)\n",
    "d=rt(1,13)\n",
    "e=rt(1,13)\n",
    "max=0\n",
    "input(f'你有{a}，{b}，{c}，{d}，{e}')\n",
    "def one():\n",
    "    max+1\n",
    "def two():\n",
    "    max+2\n",
    "def three():\n",
    "    max+3\n",
    "def four():\n",
    "    max+4\n",
    "def five():\n",
    "    max+5\n",
    "def six():\n",
    "    max+6\n",
    "def seven():\n",
    "    max+7\n",
    "def eight():\n",
    "    max+8\n",
    "def nine():\n",
    "    max+9\n",
    "def ten():\n",
    "    plus_or_minus=input('你要加十還是減十?(plus or minus)')\n",
    "    if plus_or_minus=='plus':\n",
    "        max+10\n",
    "    if plus_or_minus=='minus':\n",
    "        max-10\n",
    "def eleven():\n",
    "    pass\n",
    "def twelve():\n",
    "    plus_or_minus=input('你要加二十還是減二十?(plus or minus)')\n",
    "    if plus_or_minus=='plus':\n",
    "        max+20\n",
    "    if plus_or_minus=='minus':\n",
    "        max-20    \n",
    "def thirteen():\n",
    "    max=99\n",
    "while (True):\n",
    "    you_chose=input(f'你要出{a} or {b} or {c} or {d} or {e}?')\n",
    "    if you_chose==a:\n",
    "        pass\n",
    "    if you_chose==b:\n",
    "        pass\n",
    "    if you_chose==c:\n",
    "        pass\n",
    "    if you_chose==d:\n",
    "        pass\n",
    "    if you_chose==e:\n",
    "        pass"
   ]
  }
 ],
 "metadata": {
  "kernelspec": {
   "display_name": "Python 3",
   "language": "python",
   "name": "python3"
  },
  "language_info": {
   "codemirror_mode": {
    "name": "ipython",
    "version": 3
   },
   "file_extension": ".py",
   "mimetype": "text/x-python",
   "name": "python",
   "nbconvert_exporter": "python",
   "pygments_lexer": "ipython3",
   "version": "3.10.13"
  }
 },
 "nbformat": 4,
 "nbformat_minor": 2
}
