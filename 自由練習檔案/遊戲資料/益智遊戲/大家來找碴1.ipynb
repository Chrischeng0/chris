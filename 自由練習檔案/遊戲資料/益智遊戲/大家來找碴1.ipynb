{
 "cells": [
  {
   "cell_type": "code",
   "execution_count": 37,
   "metadata": {},
   "outputs": [],
   "source": [
    "##大家來找碴1##\n",
    "from random import randint as rt\n",
    "a = rt(1,10)\n",
    "b = rt(1,10)\n",
    "c = rt(1,10)\n",
    "d = rt(1,10)\n",
    "e = rt(1,10)\n",
    "def find():\n",
    "    input(f'第一個數字是{a}')\n",
    "    input(f'第一個數字是{b}')\n",
    "    input(f'第一個數字是{c}')\n",
    "    input(f'第一個數字是{d}')\n",
    "    input(f'第一個數字是{e}')\n",
    "\n",
    "find()\n",
    "while(True):\n",
    "    y = input('記好了嗎?1好了 2再看一次')\n",
    "    if y=='1':\n",
    "        break\n",
    "    else:\n",
    "        find()\n",
    "aa=int(input('第一個數字加第三個是多少?'))\n",
    "第一題=a+c\n",
    "if aa==第一題:\n",
    "    bb=(input('第二個數字乘上第五個減第四個是多少'))\n",
    "    第二題=c*e-d\n",
    "    if bb==第二題:\n",
    "        cc=(input('第三個數字的二次方乘上第五個減第一個是多少'))\n",
    "        第三題=c**2*e-a\n",
    "        if cc==第三題:\n",
    "            dd=(input('五個數的總和加上3的第三個數字次方是多少'))\n",
    "            第四題=a+b+c+d+e+3**c\n",
    "            if dd==第四題:\n",
    "                ee=int(input('五個數互乘是多少'))\n",
    "                第四題=a*b*c*d*e\n",
    "                if ee==第四題:\n",
    "                    input('厲害，你真是找碴大師')\n",
    "                else:\n",
    "                    input('回去練個100年再說吧')\n",
    "            else:\n",
    "                input('回去練個1000年再說吧')\n",
    "        else:\n",
    "            input('回去練個10000年再說吧')\n",
    "    else:\n",
    "        input('回去練個100000年再說吧')\n",
    "else:\n",
    "    input('回去練個1000000年再說吧')"
   ]
  }
 ],
 "metadata": {
  "kernelspec": {
   "display_name": "Python 3",
   "language": "python",
   "name": "python3"
  },
  "language_info": {
   "codemirror_mode": {
    "name": "ipython",
    "version": 3
   },
   "file_extension": ".py",
   "mimetype": "text/x-python",
   "name": "python",
   "nbconvert_exporter": "python",
   "pygments_lexer": "ipython3",
   "version": "3.10.13"
  }
 },
 "nbformat": 4,
 "nbformat_minor": 2
}
