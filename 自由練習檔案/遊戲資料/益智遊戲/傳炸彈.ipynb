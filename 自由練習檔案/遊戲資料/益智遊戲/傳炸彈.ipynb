{
 "cells": [
  {
   "cell_type": "code",
   "execution_count": 17,
   "metadata": {},
   "outputs": [],
   "source": [
    "from random import randint as rt\n",
    "people=10\n",
    "boon=rt(1,people)\n",
    "you=1\n",
    "def your_turn():\n",
    "    op=int(input('1 give next one 2 continue take'))\n",
    "    if op==1:\n",
    "        boon=\n",
    "import pyglet as py"
   ]
  }
 ],
 "metadata": {
  "kernelspec": {
   "display_name": "Python 3",
   "language": "python",
   "name": "python3"
  },
  "language_info": {
   "codemirror_mode": {
    "name": "ipython",
    "version": 3
   },
   "file_extension": ".py",
   "mimetype": "text/x-python",
   "name": "python",
   "nbconvert_exporter": "python",
   "pygments_lexer": "ipython3",
   "version": "3.10.13"
  }
 },
 "nbformat": 4,
 "nbformat_minor": 2
}
