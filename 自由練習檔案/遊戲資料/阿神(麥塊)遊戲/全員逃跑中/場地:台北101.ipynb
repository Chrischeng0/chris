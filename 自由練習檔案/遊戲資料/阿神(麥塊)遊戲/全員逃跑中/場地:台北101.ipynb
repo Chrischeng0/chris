{
 "cells": [
  {
   "cell_type": "code",
   "execution_count": null,
   "metadata": {},
   "outputs": [],
   "source": [
    "##全員逃跑中 場地:台北101##\n",
    "from random import randint as rt\n",
    "input('你是1號玩家')\n",
    "時間=int(input('遊戲時間設定==50秒 60秒 80秒 100秒'))\n",
    "人數=int(input('遊戲人數設定==2人 3人 4人 5人'))\n",
    "獵人數量=int(input('遊戲獵人人數設定==1人 2人'))\n",
    "時間=時間//2\n",
    "獵人 = rt(1,人數)\n",
    "人=rt(1,5)\n",
    "input('全員逃跑中 開始!')\n",
    "input('選擇獵人')\n",
    "input(f'獵人是{獵人}號玩家')\n",
    "if 獵人==1:\n",
    "    input('20秒逃跑者準備時間')\n",
    "    input('...')\n",
    "    input('開始')\n",
    "    for _ in range(時間):\n",
    "        地方=input('1往左 2往右')\n",
    "        人=rt(1,5)\n",
    "        if 地方=='1':\n",
    "            if 人==1:\n",
    "                input(f'你抓到了{rt(2,人數)}號玩家')\n",
    "                人數-=1\n",
    "            else:\n",
    "                地方=input('1往左 2往上')\n",
    "                人=rt(1,5)\n",
    "                if 地方=='1':\n",
    "                    if 人==1:\n",
    "                        input(f'你抓到了{rt(2,人數)}號玩家')\n",
    "                        人數-=1\n",
    "                    else:\n",
    "                        continue\n",
    "                else:\n",
    "                    continue\n",
    "        else:\n",
    "            if 人==1:\n",
    "                input(f'你抓到了{rt(2,人數)}號玩家')\n",
    "                人數-=1\n",
    "            else:\n",
    "                地方=input('1往右 2往上')\n",
    "                人=rt(1,5)\n",
    "                if 地方=='1':\n",
    "                    if 人==1:\n",
    "                        input(f'你抓到了{rt(2,人數)}號玩家')\n",
    "                        人數-=1\n",
    "                    else:\n",
    "                        continue\n",
    "                else:\n",
    "                    continue\n",
    "        if 人數==1:\n",
    "            input('你抓到了所有犯人')\n",
    "            input('遊戲結束')\n",
    "            break\n",
    "\n"
   ]
  }
 ],
 "metadata": {
  "kernelspec": {
   "display_name": "Python 3",
   "language": "python",
   "name": "python3"
  },
  "language_info": {
   "codemirror_mode": {
    "name": "ipython",
    "version": 3
   },
   "file_extension": ".py",
   "mimetype": "text/x-python",
   "name": "python",
   "nbconvert_exporter": "python",
   "pygments_lexer": "ipython3",
   "version": "3.10.13"
  }
 },
 "nbformat": 4,
 "nbformat_minor": 2
}
