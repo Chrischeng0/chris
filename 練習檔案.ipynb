{
 "cells": [
  {
   "cell_type": "code",
   "execution_count": 23,
   "metadata": {},
   "outputs": [
    {
     "name": "stdout",
     "output_type": "stream",
     "text": [
      "它是熊\n"
     ]
    }
   ],
   "source": [
    "is_furry = input(\"請問動物有毛嗎?(y,n)\")\n",
    "is_small = input(\"請問動物是小的嗎?(y,n)\")\n",
    "\n",
    "if is_furry == \"y\":\n",
    "   if is_small==\"y\":\n",
    "      print('它是貓')\n",
    "\n",
    "if is_furry == \"y\":\n",
    "   if is_small==\"n\":\n",
    "      print('它是熊')\n",
    "\n",
    "if is_furry == \"n\":\n",
    "   if is_small==\"y\":\n",
    "      print('它是小蜥蜴')\n",
    "\n",
    "if is_furry == \"n\":\n",
    "   if is_small==\"n\":\n",
    "      print('它是人類或沒有毛的熊')"
   ]
  },
  {
   "cell_type": "code",
   "execution_count": 11,
   "metadata": {},
   "outputs": [
    {
     "name": "stdout",
     "output_type": "stream",
     "text": [
      "你的智商很普通嘛!\n"
     ]
    }
   ],
   "source": [
    "Q1 = input('請問家裡有幾個人?(1-5)')\n",
    "Q2 = input('請問家裡的笨蛋是誰?(陳品__)')\n",
    "Q3 = input('請問妹妹會翻身嗎?(y,n)')\n",
    "\n",
    "if Q1 == \"5\":\n",
    "    if Q2 == \"浩\":\n",
    "        if Q3 == \"y\":\n",
    "            print('你的智商很高嘛!')\n",
    "\n",
    "if Q1 != \"5\":\n",
    "    if Q2 == \"浩\":\n",
    "        if Q3 == \"y\":\n",
    "            print('你的智商很普通嘛!')\n",
    "\n",
    "if Q1 != \"5\":\n",
    "    if Q2 != \"浩\":\n",
    "        if Q3 == \"y\":\n",
    "            print('你的智商挺低的嘛!')\n",
    "            \n",
    "if Q1 == \"5\":\n",
    "    if Q2 == \"浩\":\n",
    "        if Q3 != \"y\":\n",
    "            print('你的智商很普通嘛!')\n",
    "\n",
    "if Q1 == \"5\":\n",
    "    if Q2 != \"浩\":\n",
    "        if Q3 == \"y\":\n",
    "            print('你的智商很普通嘛!')\n",
    "            \n",
    "if Q1 == \"5\":\n",
    "    if Q2 != \"浩\":\n",
    "        if Q3 != \"y\":\n",
    "            print('你的智商挺低的嘛!')\n",
    "\n",
    "if Q1 != \"5\":\n",
    "    if Q2 == \"浩\":\n",
    "        if Q3 != \"y\":\n",
    "            print('你的智商挺低的嘛!')\n",
    "\n",
    "if Q1 != \"5\":\n",
    "    if Q2 != \"浩\":\n",
    "        if Q3 != \"y\":\n",
    "            print('甚麼嘛!你根本沒智商丫!')"
   ]
  },
  {
   "cell_type": "code",
   "execution_count": 15,
   "metadata": {},
   "outputs": [
    {
     "name": "stdout",
     "output_type": "stream",
     "text": [
      "可惜\n"
     ]
    }
   ],
   "source": [
    "a=input('現現在有很多腳色可以購賣。(請按Enter)')\n",
    "b=input('請選擇合適的角色吧!(請按Enter)')\n",
    "c=input('現在，請選擇適合自己購買的角色。(娜塔亞、美娜、凡恩、奎倫、夜叉、、史蘭茲)')\n",
    "if c=='娜塔亞':\n",
    "    d=input('you really want to buy?(y,n)')\n",
    "    if d=='y':\n",
    "        print('cool! nice to buy!')\n",
    "    else:\n",
    "        print('可惜')      \n",
    "if c=='美娜':\n",
    "    d=input('you really want to buy?(y,n)')\n",
    "    if d=='y':\n",
    "        print('還不錯')\n",
    "    else:\n",
    "        print('可惜')                                    \n",
    "if c=='凡恩':\n",
    "    d=input('you really want to buy?(y,n)')\n",
    "    if d=='y':\n",
    "        print('厲害')\n",
    "    else:\n",
    "        print('可惜') \n",
    "if c=='奎倫':\n",
    "    d=input('you really want to buy?(y,n)')\n",
    "    if d=='y':\n",
    "        print('還可以')\n",
    "    else:\n",
    "        print('可惜')      \n",
    "if c=='夜叉':\n",
    "    d=input('you really want to buy?(y,n)')\n",
    "    if d=='y':\n",
    "        print('厲害')\n",
    "    else:\n",
    "        print('可惜')                                    \n",
    "if c=='史蘭茲':\n",
    "    d=input('you really want to buy?(y,n)')\n",
    "    if d=='y':\n",
    "        print('你會不會選阿')\n",
    "    else:\n",
    "        print('可惜') "
   ]
  },
  {
   "cell_type": "code",
   "execution_count": 24,
   "metadata": {},
   "outputs": [
    {
     "name": "stdout",
     "output_type": "stream",
     "text": [
      "前面出現了一隻大怪物，你瞬間被殺死了\n"
     ]
    }
   ],
   "source": [
    "a=input('你在一個遊戲中')\n",
    "b=input('你遇到了一些武器')\n",
    "c=input('請你選擇')\n",
    "d=input('劍或盾')\n",
    "e=input('弓或盔甲(背後)')\n",
    "f=input('大劍或頭盔')\n",
    "if d==\"盾\":\n",
    "    if e==\"盔甲\":\n",
    "         if f==\"大劍\":\n",
    "            print('前面出現了一隻大怪物，你打贏了')\n",
    "if d!=\"盾\":\n",
    "    if e!=\"盔甲\":\n",
    "         if f==\"大劍\":\n",
    "            print('前面出現了一隻大怪物，你瞬間被殺死了')\n",
    "if d!=\"盾\":\n",
    "    if e==\"盔甲\":\n",
    "         if f!=\"大劍\":\n",
    "            print('前面出現了一隻大怪物，你瞬間被殺死了')\n",
    "if d==\"盾\":\n",
    "    if e!=\"盔甲\":\n",
    "         if f!=\"大劍\":\n",
    "            print('前面出現了一隻大怪物，你瞬間被殺死了')\n",
    "if d!=\"盾\":\n",
    "    if e==\"盔甲\":\n",
    "         if f==\"大劍\":\n",
    "            print('前面出現了一隻大怪物，你的心臟被刺穿了')\n",
    "if d==\"盾\":\n",
    "    if e!=\"盔甲\":\n",
    "         if f==\"大劍\":\n",
    "            print('前面出現了隻大怪物，怪物繞到你背後，你被腰斬了')\n",
    "if d==\"盾\":\n",
    "    if e==\"盔甲\":\n",
    "         if f!=\"大劍\":\n",
    "            print('前面出現了一隻大怪物，你逃了')"
   ]
  },
  {
   "cell_type": "code",
   "execution_count": 31,
   "metadata": {},
   "outputs": [
    {
     "name": "stdout",
     "output_type": "stream",
     "text": [
      "3\n"
     ]
    }
   ],
   "source": [
    "import random\n",
    "\n",
    "a=input('選一個1-5的數字')\n",
    "random_number = random.randint(1, 5)\n",
    "print( random_number)\n",
    "if a==random_number:\n",
    "    print('你真是讀(電腦)術大師!')"
   ]
  }
 ],
 "metadata": {
  "kernelspec": {
   "display_name": "Python 3",
   "language": "python",
   "name": "python3"
  },
  "language_info": {
   "codemirror_mode": {
    "name": "ipython",
    "version": 3
   },
   "file_extension": ".py",
   "mimetype": "text/x-python",
   "name": "python",
   "nbconvert_exporter": "python",
   "pygments_lexer": "ipython3",
   "version": "3.10.13"
  }
 },
 "nbformat": 4,
 "nbformat_minor": 2
}
