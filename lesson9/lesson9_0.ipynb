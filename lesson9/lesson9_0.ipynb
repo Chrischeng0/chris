{
 "cells": [
  {
   "cell_type": "code",
   "execution_count": null,
   "metadata": {},
   "outputs": [],
   "source": [
    "import pyinputplus as pyip\n",
    "def getSuggestion(bmi:float) -> str:\n",
    "    print(f'您的BMI值為:{bmi:.2f}')\n",
    "    if bmi<18.5:\n",
    "        message='您的體重:體重過輕'\n",
    "    elif bmi<24:\n",
    "        message='您的體重'\n",
    "    elif bmi<27:\n",
    "        message='您的體重:過重' \n",
    "    elif bmi<30:\n",
    "        message='您的體重:輕度肥胖' \n",
    "    elif bmi<35:\n",
    "       message='您的體重:中度肥胖' \n",
    "    else:\n",
    "       message='您的體重:重度肥胖' \n",
    "\n",
    "    return message \n",
    "while(True) :\n",
    "    print('BMI計算開始')\n",
    "    try:\n",
    "        height = eval(input('請輸入身高(公分,120-250):'))\n",
    "        weight = eval(input('請輸入體重(公斤,30-250):'))\n",
    "        if (height >= 120 and height<=250) and (weight >=30 and weight <=250) :\n",
    "            bmi = weight/(height/100)**2\n",
    "            print(getSuggestion(bmi))\n",
    "        else :\n",
    "            print('身高或體重超出範圍')\n",
    "    except:\n",
    "        print('輸入格式有錯誤')\n",
    "    menu_value=pyip.inputMenu(['yes','no'],prompt='還要繼續嗎\\n',numbered=True)\n",
    "    if menu_value=='no':\n",
    "        print('BMI計算結束')\n",
    "        break\n",
    "\n"
   ]
  }
 ],
 "metadata": {
  "kernelspec": {
   "display_name": "Python 3",
   "language": "python",
   "name": "python3"
  },
  "language_info": {
   "name": "python",
   "version": "3.10.13"
  }
 },
 "nbformat": 4,
 "nbformat_minor": 2
}
