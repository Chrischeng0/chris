{
 "cells": [
  {
   "cell_type": "code",
   "execution_count": 29,
   "metadata": {},
   "outputs": [
    {
     "name": "stdout",
     "output_type": "stream",
     "text": [
      "[['筆記電腦', '商用筆電', '電競比電'], ['apple', 'ASUS', 'HTC'], ['冰箱', '洗衣機', '電視']]\n"
     ]
    }
   ],
   "source": [
    "from pprint import pprint \n",
    "\n",
    "nb:list[str]=['筆記電腦','商用筆電','電競比電']\n",
    "mobile:list[str]=['apple','ASUS','HTC']\n",
    "home:list[str]=['冰箱','洗衣機','電視']\n",
    "\n",
    "all3c=[nb, mobile, home]\n",
    "pprint(all3c)"
   ]
  },
  {
   "cell_type": "code",
   "execution_count": 40,
   "metadata": {},
   "outputs": [
    {
     "data": {
      "text/plain": [
       "[['冰箱', '洗衣機', '電視'], ['apple', 'ASUS', 'HTC'], ['筆記電腦', '商用筆電', '電競比電']]"
      ]
     },
     "execution_count": 40,
     "metadata": {},
     "output_type": "execute_result"
    }
   ],
   "source": [
    "all3c:list[list[str]]=[]\n",
    "all3c.append(nb)\n",
    "all3c.append(mobile)\n",
    "all3c.append(home)\n",
    "all3c.reverse()\n",
    "all3c"
   ]
  },
  {
   "cell_type": "code",
   "execution_count": 48,
   "metadata": {},
   "outputs": [
    {
     "data": {
      "text/plain": [
       "[97, 65, 62, 72, 60]"
      ]
     },
     "execution_count": 48,
     "metadata": {},
     "output_type": "execute_result"
    }
   ],
   "source": [
    "from random import randint as rt\n",
    "stu1 = [rt(50,100),rt(50,100),rt(50,100),rt(50,100),rt(50,100)]\n",
    "stu1"
   ]
  },
  {
   "cell_type": "code",
   "execution_count": 73,
   "metadata": {},
   "outputs": [
    {
     "data": {
      "text/plain": [
       "[91, 99, 99, 87, 55]"
      ]
     },
     "execution_count": 73,
     "metadata": {},
     "output_type": "execute_result"
    }
   ],
   "source": [
    "stu2: list[int ] = []\n",
    "for i in range(5):\n",
    "    stu2.append(rt(50,100))\n",
    "stu2"
   ]
  },
  {
   "cell_type": "code",
   "execution_count": 82,
   "metadata": {},
   "outputs": [
    {
     "data": {
      "text/plain": [
       "[69, 62, 95, 83, 80]"
      ]
     },
     "execution_count": 82,
     "metadata": {},
     "output_type": "execute_result"
    }
   ],
   "source": [
    "stu2: list[int ] = []\n",
    "for _ in range(5):\n",
    "    stu2.append(rt(50,100))\n",
    "stu2"
   ]
  },
  {
   "cell_type": "code",
   "execution_count": 95,
   "metadata": {},
   "outputs": [
    {
     "data": {
      "text/plain": [
       "[55, 60, 55, 72, 63]"
      ]
     },
     "execution_count": 95,
     "metadata": {},
     "output_type": "execute_result"
    }
   ],
   "source": [
    "stu3: list[int ] = [rt(50,100) for _ in range(5)]\n",
    "stu3"
   ]
  }
 ],
 "metadata": {
  "kernelspec": {
   "display_name": "Python 3",
   "language": "python",
   "name": "python3"
  },
  "language_info": {
   "codemirror_mode": {
    "name": "ipython",
    "version": 3
   },
   "file_extension": ".py",
   "mimetype": "text/x-python",
   "name": "python",
   "nbconvert_exporter": "python",
   "pygments_lexer": "ipython3",
   "version": "3.10.13"
  }
 },
 "nbformat": 4,
 "nbformat_minor": 2
}
