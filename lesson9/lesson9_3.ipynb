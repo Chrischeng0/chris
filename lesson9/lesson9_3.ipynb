{
 "cells": [
  {
   "cell_type": "code",
   "execution_count": 29,
   "metadata": {},
   "outputs": [
    {
     "name": "stdout",
     "output_type": "stream",
     "text": [
      "[['筆記電腦', '商用筆電', '電競比電'], ['apple', 'ASUS', 'HTC'], ['冰箱', '洗衣機', '電視']]\n"
     ]
    }
   ],
   "source": [
    "from pprint import pprint \n",
    "\n",
    "nb:list[str]=['筆記電腦','商用筆電','電競比電']\n",
    "mobile:list[str]=['apple','ASUS','HTC']\n",
    "home:list[str]=['冰箱','洗衣機','電視']\n",
    "\n",
    "all3c=[nb, mobile, home]\n",
    "pprint(all3c)"
   ]
  },
  {
   "cell_type": "code",
   "execution_count": 40,
   "metadata": {},
   "outputs": [
    {
     "data": {
      "text/plain": [
       "[['冰箱', '洗衣機', '電視'], ['apple', 'ASUS', 'HTC'], ['筆記電腦', '商用筆電', '電競比電']]"
      ]
     },
     "execution_count": 40,
     "metadata": {},
     "output_type": "execute_result"
    }
   ],
   "source": [
    "all3c:list[list[str]]=[]\n",
    "all3c.append(nb)\n",
    "all3c.append(mobile)\n",
    "all3c.append(home)\n",
    "all3c.reverse()\n",
    "all3c"
   ]
  },
  {
   "cell_type": "code",
   "execution_count": 48,
   "metadata": {},
   "outputs": [
    {
     "data": {
      "text/plain": [
       "[97, 65, 62, 72, 60]"
      ]
     },
     "execution_count": 48,
     "metadata": {},
     "output_type": "execute_result"
    }
   ],
   "source": [
    "from random import randint as rt\n",
    "stu1 = [rt(50,100),rt(50,100),rt(50,100),rt(50,100),rt(50,100)]\n",
    "stu1"
   ]
  },
  {
   "cell_type": "code",
   "execution_count": 73,
   "metadata": {},
   "outputs": [
    {
     "data": {
      "text/plain": [
       "[91, 99, 99, 87, 55]"
      ]
     },
     "execution_count": 73,
     "metadata": {},
     "output_type": "execute_result"
    }
   ],
   "source": [
    "stu2: list[int ] = []\n",
    "for i in range(5):\n",
    "    stu2.append(rt(50,100))\n",
    "stu2"
   ]
  },
  {
   "cell_type": "code",
   "execution_count": 82,
   "metadata": {},
   "outputs": [
    {
     "data": {
      "text/plain": [
       "[69, 62, 95, 83, 80]"
      ]
     },
     "execution_count": 82,
     "metadata": {},
     "output_type": "execute_result"
    }
   ],
   "source": [
    "stu2: list[int ] = []\n",
    "for _ in range(5):\n",
    "    stu2.append(rt(50,100))\n",
    "stu2"
   ]
  },
  {
   "cell_type": "code",
   "execution_count": 95,
   "metadata": {},
   "outputs": [
    {
     "data": {
      "text/plain": [
       "[55, 60, 55, 72, 63]"
      ]
     },
     "execution_count": 95,
     "metadata": {},
     "output_type": "execute_result"
    }
   ],
   "source": [
    "stu3: list[int ] = [rt(50,100) for _ in range(5)]\n",
    "stu3"
   ]
  },
  {
   "cell_type": "code",
   "execution_count": 96,
   "metadata": {},
   "outputs": [
    {
     "name": "stdout",
     "output_type": "stream",
     "text": [
      "[[75, 94, 58, 93, 78],\n",
      " [56, 87, 100, 94, 66],\n",
      " [73, 83, 85, 84, 51],\n",
      " [52, 56, 55, 99, 61],\n",
      " [65, 87, 73, 65, 60],\n",
      " [76, 78, 91, 53, 80],\n",
      " [90, 87, 100, 82, 50],\n",
      " [53, 96, 67, 63, 75],\n",
      " [75, 60, 67, 69, 99],\n",
      " [84, 76, 77, 77, 55],\n",
      " [78, 90, 54, 65, 60],\n",
      " [58, 82, 77, 100, 63],\n",
      " [68, 82, 99, 72, 80],\n",
      " [97, 88, 90, 90, 62],\n",
      " [89, 70, 67, 71, 75],\n",
      " [51, 99, 94, 54, 87],\n",
      " [73, 93, 68, 72, 65],\n",
      " [87, 63, 97, 68, 62],\n",
      " [86, 92, 73, 64, 75],\n",
      " [61, 92, 63, 78, 76],\n",
      " [58, 85, 77, 76, 92],\n",
      " [92, 73, 89, 68, 83],\n",
      " [72, 82, 91, 100, 63],\n",
      " [57, 56, 61, 99, 84],\n",
      " [74, 75, 78, 65, 85],\n",
      " [65, 77, 60, 56, 69],\n",
      " [98, 78, 91, 75, 52],\n",
      " [51, 80, 98, 75, 64],\n",
      " [51, 62, 64, 98, 69],\n",
      " [63, 73, 66, 76, 70],\n",
      " [68, 99, 88, 53, 67],\n",
      " [92, 55, 99, 65, 64],\n",
      " [56, 80, 68, 90, 91],\n",
      " [69, 85, 69, 85, 100],\n",
      " [59, 68, 71, 65, 96],\n",
      " [91, 62, 83, 59, 54],\n",
      " [52, 98, 93, 92, 73],\n",
      " [97, 50, 77, 59, 89],\n",
      " [93, 76, 100, 79, 64],\n",
      " [65, 80, 80, 91, 98],\n",
      " [100, 84, 85, 100, 70],\n",
      " [70, 90, 62, 79, 77],\n",
      " [77, 51, 92, 52, 95],\n",
      " [80, 65, 51, 70, 75],\n",
      " [61, 57, 70, 59, 82],\n",
      " [87, 88, 98, 56, 50],\n",
      " [55, 64, 57, 68, 78],\n",
      " [53, 82, 67, 77, 69],\n",
      " [70, 75, 63, 84, 89],\n",
      " [85, 85, 82, 97, 72]]\n"
     ]
    }
   ],
   "source": [
    "students:list[list[int]]=[]\n",
    "for _ in range(50):\n",
    "    stu: list[int] = [rt(50,100) for _ in range(5)] \n",
    "    students.append(stu)\n",
    "pprint(students)\n"
   ]
  }
 ],
 "metadata": {
  "kernelspec": {
   "display_name": "Python 3",
   "language": "python",
   "name": "python3"
  },
  "language_info": {
   "codemirror_mode": {
    "name": "ipython",
    "version": 3
   },
   "file_extension": ".py",
   "mimetype": "text/x-python",
   "name": "python",
   "nbconvert_exporter": "python",
   "pygments_lexer": "ipython3",
   "version": "3.10.13"
  }
 },
 "nbformat": 4,
 "nbformat_minor": 2
}
