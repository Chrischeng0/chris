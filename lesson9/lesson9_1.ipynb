{
 "cells": [
  {
   "cell_type": "code",
   "execution_count": null,
   "metadata": {},
   "outputs": [],
   "source": [
    "def getSuggestion(bmi:float) -> str:\n",
    "    print(f'您的BMI值為:{bmi:.2f}')\n",
    "    if bmi<18.5:\n",
    "        print(f'範圍區間屬於過輕，多吃一點補充營養\\n')\n",
    "    elif bmi<24:\n",
    "        print(f'範圍區間屬於正常\\n')\n",
    "    elif bmi<27:\n",
    "        print(f'範圍區間屬於過重，注意飲食\\n')\n",
    "    elif bmi<30:\n",
    "        print(f'範圍區間屬於輕度肥胖，要多運動\\n')\n",
    "    elif bmi<35:\n",
    "        print(f'範圍區間屬於中度肥胖，該注意飲食外要多加運動\\n')\n",
    "    else:  \n",
    "        print(f'範圍區間屬於重度肥胖，請與醫師與健身教練聯絡諮詢\\n') \n",
    "import pyinputplus as pyip\n",
    "while(True):\n",
    "    print(\"----BMI計算程式開始----\\n\")\n",
    "    height=0\n",
    "    weight=0\n",
    "    try:\n",
    "        height:float=eval(input(\"請輸入您的身高 ( 120~250 公分)\"))\n",
    "    except:\n",
    "        print('錯誤訊息！請輸入數字')\n",
    "    else:\n",
    "        if height>=120 and height<=250:\n",
    "            print(f'您的身高為:{height:.2f}公分')\n",
    "            try:\n",
    "                weight:float=eval(input(\"請輸入您的體重 (  30~250 公斤)\"))\n",
    "            except:\n",
    "                print('錯誤訊息！請輸入數字')\n",
    "            else:\n",
    "                if weight>=30 and weight<=250:\n",
    "                    print(f'您的體重是:{weight:.2f}公斤')\n",
    "                    bmi=weight/((height/100)**2)\n",
    "                    getSuggestion(bmi)\n",
    "                else:\n",
    "                    print(f'您輸入{weight}公斤，超出輸入範圍30~250公斤，請重新輸入')\n",
    "        else:\n",
    "            print(f'您輸入{height}公分，超出輸入範圍120~250公分，請重新輸入')\n",
    "    menu_value = pyip.inputMenu([\"yes\",\"no\"],prompt=\"請問您還要繼續測量BMI嗎?\\n\",numbered=True)\n",
    "    if menu_value == 'no':\n",
    "        print(\"----BMI計算程式結束----\\n\")\n",
    "        break"
   ]
  },
  {
   "cell_type": "code",
   "execution_count": 11,
   "metadata": {},
   "outputs": [
    {
     "name": "stdout",
     "output_type": "stream",
     "text": [
      "1\n",
      "2\n",
      "3\n",
      "4\n",
      "編號0:1\n",
      "編號1:2\n",
      "編號2:3\n",
      "編號3:4\n",
      "1\n",
      "2\n",
      "3\n",
      "4\n",
      "a\n",
      "b\n",
      "c\n"
     ]
    }
   ],
   "source": [
    "t1=(1,2,3,4)\n",
    "for i in t1:\n",
    "    print ( i )\n",
    "print(f'編號0:{t1[0]}')\n",
    "print(f'編號1:{t1[1]}')\n",
    "print(f'編號2:{t1[2]}')\n",
    "print(f'編號3:{t1[3]}')\n",
    "(v1,v2,v3,v4) = t1\n",
    "print(v1)\n",
    "print(v2)\n",
    "print(v3)\n",
    "print(v4)\n",
    "vary1,vary2,vary3='a','b','c'\n",
    "print(vary1)\n",
    "print(vary2)\n",
    "print(vary3)"
   ]
  }
 ],
 "metadata": {
  "kernelspec": {
   "display_name": "Python 3",
   "language": "python",
   "name": "python3"
  },
  "language_info": {
   "codemirror_mode": {
    "name": "ipython",
    "version": 3
   },
   "file_extension": ".py",
   "mimetype": "text/x-python",
   "name": "python",
   "nbconvert_exporter": "python",
   "pygments_lexer": "ipython3",
   "version": "3.10.13"
  }
 },
 "nbformat": 4,
 "nbformat_minor": 2
}
